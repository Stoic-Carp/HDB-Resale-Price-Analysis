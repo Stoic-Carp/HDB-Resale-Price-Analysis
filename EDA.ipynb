{
 "metadata": {
  "language_info": {
   "codemirror_mode": {
    "name": "ipython",
    "version": 3
   },
   "file_extension": ".py",
   "mimetype": "text/x-python",
   "name": "python",
   "nbconvert_exporter": "python",
   "pygments_lexer": "ipython3",
   "version": "3.7.8-final"
  },
  "orig_nbformat": 2,
  "kernelspec": {
   "name": "python3",
   "display_name": "Python 3",
   "language": "python"
  }
 },
 "nbformat": 4,
 "nbformat_minor": 2,
 "cells": [
  {
   "cell_type": "code",
   "execution_count": 1,
   "metadata": {},
   "outputs": [],
   "source": [
    "import pandas as pd\n",
    "import seaborn as sns\n",
    "\n",
    "%matplotlib inline"
   ]
  },
  {
   "cell_type": "code",
   "execution_count": 2,
   "metadata": {},
   "outputs": [
    {
     "output_type": "execute_result",
     "data": {
      "text/plain": [
       "             town         flat_type block        street_name storey_range  \\\n",
       "0      ANG MO KIO            2 ROOM   406  ANG MO KIO AVE 10     10 TO 12   \n",
       "1      ANG MO KIO            3 ROOM   108   ANG MO KIO AVE 4     01 TO 03   \n",
       "2      ANG MO KIO            3 ROOM   602   ANG MO KIO AVE 5     01 TO 03   \n",
       "3      ANG MO KIO            3 ROOM   465  ANG MO KIO AVE 10     04 TO 06   \n",
       "4      ANG MO KIO            3 ROOM   601   ANG MO KIO AVE 5     01 TO 03   \n",
       "...           ...               ...   ...                ...          ...   \n",
       "82796      YISHUN         EXECUTIVE   834       YISHUN ST 81     04 TO 06   \n",
       "82797      YISHUN         EXECUTIVE   877       YISHUN ST 81     01 TO 03   \n",
       "82798      YISHUN         EXECUTIVE   877       YISHUN ST 81     07 TO 09   \n",
       "82799      YISHUN  MULTI-GENERATION   633       YISHUN ST 61     10 TO 12   \n",
       "82800      YISHUN  MULTI-GENERATION   633       YISHUN ST 61     10 TO 12   \n",
       "\n",
       "       floor_area_sqm        flat_model  lease_commence_date  \\\n",
       "0                44.0          Improved                 1979   \n",
       "1                67.0    New Generation                 1978   \n",
       "2                67.0    New Generation                 1980   \n",
       "3                68.0    New Generation                 1980   \n",
       "4                67.0    New Generation                 1980   \n",
       "...               ...               ...                  ...   \n",
       "82796           146.0        Maisonette                 1988   \n",
       "82797           145.0        Maisonette                 1987   \n",
       "82798           142.0         Apartment                 1987   \n",
       "82799           164.0  Multi Generation                 1987   \n",
       "82800           171.0  Multi Generation                 1987   \n",
       "\n",
       "          remaining_lease  resale_price year-month  remaining_lease_years  \\\n",
       "0      61 years 04 months      232000.0    2017-01                     61   \n",
       "1      60 years 07 months      250000.0    2017-01                     60   \n",
       "2      62 years 05 months      262000.0    2017-01                     62   \n",
       "3       62 years 01 month      265000.0    2017-01                     62   \n",
       "4      62 years 05 months      265000.0    2017-01                     62   \n",
       "...                   ...           ...        ...                    ...   \n",
       "82796  66 years 03 months      680000.0    2020-10                     66   \n",
       "82797  66 years 02 months      618000.0    2020-10                     66   \n",
       "82798  66 years 02 months      670000.0    2020-10                     66   \n",
       "82799  66 years 02 months      750000.0    2020-10                     66   \n",
       "82800  66 years 02 months      780000.0    2020-10                     66   \n",
       "\n",
       "        flat_age_category  \n",
       "0      More than 30 years  \n",
       "1      More than 30 years  \n",
       "2      More than 30 years  \n",
       "3      More than 30 years  \n",
       "4      More than 30 years  \n",
       "...                   ...  \n",
       "82796  More than 30 years  \n",
       "82797  More than 30 years  \n",
       "82798  More than 30 years  \n",
       "82799  More than 30 years  \n",
       "82800  More than 30 years  \n",
       "\n",
       "[82801 rows x 13 columns]"
      ],
      "text/html": "<div>\n<style scoped>\n    .dataframe tbody tr th:only-of-type {\n        vertical-align: middle;\n    }\n\n    .dataframe tbody tr th {\n        vertical-align: top;\n    }\n\n    .dataframe thead th {\n        text-align: right;\n    }\n</style>\n<table border=\"1\" class=\"dataframe\">\n  <thead>\n    <tr style=\"text-align: right;\">\n      <th></th>\n      <th>town</th>\n      <th>flat_type</th>\n      <th>block</th>\n      <th>street_name</th>\n      <th>storey_range</th>\n      <th>floor_area_sqm</th>\n      <th>flat_model</th>\n      <th>lease_commence_date</th>\n      <th>remaining_lease</th>\n      <th>resale_price</th>\n      <th>year-month</th>\n      <th>remaining_lease_years</th>\n      <th>flat_age_category</th>\n    </tr>\n  </thead>\n  <tbody>\n    <tr>\n      <th>0</th>\n      <td>ANG MO KIO</td>\n      <td>2 ROOM</td>\n      <td>406</td>\n      <td>ANG MO KIO AVE 10</td>\n      <td>10 TO 12</td>\n      <td>44.0</td>\n      <td>Improved</td>\n      <td>1979</td>\n      <td>61 years 04 months</td>\n      <td>232000.0</td>\n      <td>2017-01</td>\n      <td>61</td>\n      <td>More than 30 years</td>\n    </tr>\n    <tr>\n      <th>1</th>\n      <td>ANG MO KIO</td>\n      <td>3 ROOM</td>\n      <td>108</td>\n      <td>ANG MO KIO AVE 4</td>\n      <td>01 TO 03</td>\n      <td>67.0</td>\n      <td>New Generation</td>\n      <td>1978</td>\n      <td>60 years 07 months</td>\n      <td>250000.0</td>\n      <td>2017-01</td>\n      <td>60</td>\n      <td>More than 30 years</td>\n    </tr>\n    <tr>\n      <th>2</th>\n      <td>ANG MO KIO</td>\n      <td>3 ROOM</td>\n      <td>602</td>\n      <td>ANG MO KIO AVE 5</td>\n      <td>01 TO 03</td>\n      <td>67.0</td>\n      <td>New Generation</td>\n      <td>1980</td>\n      <td>62 years 05 months</td>\n      <td>262000.0</td>\n      <td>2017-01</td>\n      <td>62</td>\n      <td>More than 30 years</td>\n    </tr>\n    <tr>\n      <th>3</th>\n      <td>ANG MO KIO</td>\n      <td>3 ROOM</td>\n      <td>465</td>\n      <td>ANG MO KIO AVE 10</td>\n      <td>04 TO 06</td>\n      <td>68.0</td>\n      <td>New Generation</td>\n      <td>1980</td>\n      <td>62 years 01 month</td>\n      <td>265000.0</td>\n      <td>2017-01</td>\n      <td>62</td>\n      <td>More than 30 years</td>\n    </tr>\n    <tr>\n      <th>4</th>\n      <td>ANG MO KIO</td>\n      <td>3 ROOM</td>\n      <td>601</td>\n      <td>ANG MO KIO AVE 5</td>\n      <td>01 TO 03</td>\n      <td>67.0</td>\n      <td>New Generation</td>\n      <td>1980</td>\n      <td>62 years 05 months</td>\n      <td>265000.0</td>\n      <td>2017-01</td>\n      <td>62</td>\n      <td>More than 30 years</td>\n    </tr>\n    <tr>\n      <th>...</th>\n      <td>...</td>\n      <td>...</td>\n      <td>...</td>\n      <td>...</td>\n      <td>...</td>\n      <td>...</td>\n      <td>...</td>\n      <td>...</td>\n      <td>...</td>\n      <td>...</td>\n      <td>...</td>\n      <td>...</td>\n      <td>...</td>\n    </tr>\n    <tr>\n      <th>82796</th>\n      <td>YISHUN</td>\n      <td>EXECUTIVE</td>\n      <td>834</td>\n      <td>YISHUN ST 81</td>\n      <td>04 TO 06</td>\n      <td>146.0</td>\n      <td>Maisonette</td>\n      <td>1988</td>\n      <td>66 years 03 months</td>\n      <td>680000.0</td>\n      <td>2020-10</td>\n      <td>66</td>\n      <td>More than 30 years</td>\n    </tr>\n    <tr>\n      <th>82797</th>\n      <td>YISHUN</td>\n      <td>EXECUTIVE</td>\n      <td>877</td>\n      <td>YISHUN ST 81</td>\n      <td>01 TO 03</td>\n      <td>145.0</td>\n      <td>Maisonette</td>\n      <td>1987</td>\n      <td>66 years 02 months</td>\n      <td>618000.0</td>\n      <td>2020-10</td>\n      <td>66</td>\n      <td>More than 30 years</td>\n    </tr>\n    <tr>\n      <th>82798</th>\n      <td>YISHUN</td>\n      <td>EXECUTIVE</td>\n      <td>877</td>\n      <td>YISHUN ST 81</td>\n      <td>07 TO 09</td>\n      <td>142.0</td>\n      <td>Apartment</td>\n      <td>1987</td>\n      <td>66 years 02 months</td>\n      <td>670000.0</td>\n      <td>2020-10</td>\n      <td>66</td>\n      <td>More than 30 years</td>\n    </tr>\n    <tr>\n      <th>82799</th>\n      <td>YISHUN</td>\n      <td>MULTI-GENERATION</td>\n      <td>633</td>\n      <td>YISHUN ST 61</td>\n      <td>10 TO 12</td>\n      <td>164.0</td>\n      <td>Multi Generation</td>\n      <td>1987</td>\n      <td>66 years 02 months</td>\n      <td>750000.0</td>\n      <td>2020-10</td>\n      <td>66</td>\n      <td>More than 30 years</td>\n    </tr>\n    <tr>\n      <th>82800</th>\n      <td>YISHUN</td>\n      <td>MULTI-GENERATION</td>\n      <td>633</td>\n      <td>YISHUN ST 61</td>\n      <td>10 TO 12</td>\n      <td>171.0</td>\n      <td>Multi Generation</td>\n      <td>1987</td>\n      <td>66 years 02 months</td>\n      <td>780000.0</td>\n      <td>2020-10</td>\n      <td>66</td>\n      <td>More than 30 years</td>\n    </tr>\n  </tbody>\n</table>\n<p>82801 rows × 13 columns</p>\n</div>"
     },
     "metadata": {},
     "execution_count": 2
    }
   ],
   "source": [
    "df = pd.read_feather('clean_df.feather')\n",
    "df"
   ]
  },
  {
   "cell_type": "code",
   "execution_count": 3,
   "metadata": {},
   "outputs": [
    {
     "output_type": "execute_result",
     "data": {
      "text/plain": [
       "town                      category\n",
       "flat_type                 category\n",
       "block                       object\n",
       "street_name                 object\n",
       "storey_range              category\n",
       "floor_area_sqm             float64\n",
       "flat_model                category\n",
       "lease_commence_date          int64\n",
       "remaining_lease             object\n",
       "resale_price               float64\n",
       "year-month               period[M]\n",
       "remaining_lease_years        int32\n",
       "flat_age_category         category\n",
       "dtype: object"
      ]
     },
     "metadata": {},
     "execution_count": 3
    }
   ],
   "source": [
    "df.dtypes"
   ]
  },
  {
   "cell_type": "code",
   "execution_count": 19,
   "metadata": {},
   "outputs": [
    {
     "output_type": "error",
     "ename": "AttributeError",
     "evalue": "'FacetGrid' object has no attribute 'set_title'",
     "traceback": [
      "\u001b[1;31m---------------------------------------------------------------------------\u001b[0m",
      "\u001b[1;31mAttributeError\u001b[0m                            Traceback (most recent call last)",
      "\u001b[1;32m<ipython-input-19-ce080e35b08b>\u001b[0m in \u001b[0;36m<module>\u001b[1;34m()\u001b[0m\n\u001b[0;32m      1\u001b[0m \u001b[0mg\u001b[0m \u001b[1;33m=\u001b[0m \u001b[0msns\u001b[0m\u001b[1;33m.\u001b[0m\u001b[0mdisplot\u001b[0m\u001b[1;33m(\u001b[0m\u001b[0mdata\u001b[0m\u001b[1;33m=\u001b[0m\u001b[0mdf\u001b[0m\u001b[1;33m,\u001b[0m \u001b[0mx\u001b[0m\u001b[1;33m=\u001b[0m\u001b[1;34m\"resale_price\"\u001b[0m\u001b[1;33m,\u001b[0m \u001b[0mbins\u001b[0m\u001b[1;33m=\u001b[0m\u001b[1;36m20\u001b[0m\u001b[1;33m)\u001b[0m\u001b[1;33m\u001b[0m\u001b[1;33m\u001b[0m\u001b[0m\n\u001b[1;32m----> 2\u001b[1;33m \u001b[0mg\u001b[0m\u001b[1;33m.\u001b[0m\u001b[0mset_title\u001b[0m\u001b[1;33m(\u001b[0m\u001b[1;34m'Distribution of Resale Prices from Jan 2017 to Oct 2020'\u001b[0m\u001b[1;33m)\u001b[0m\u001b[1;33m\u001b[0m\u001b[1;33m\u001b[0m\u001b[0m\n\u001b[0m\u001b[0;32m      3\u001b[0m \u001b[0mg\u001b[0m\u001b[1;33m\u001b[0m\u001b[1;33m\u001b[0m\u001b[0m\n",
      "\u001b[1;31mAttributeError\u001b[0m: 'FacetGrid' object has no attribute 'set_title'"
     ]
    }
   ],
   "source": [
    "g = sns.displot(data=df, x=\"resale_price\", bins=20)\n",
    "g.set_titles('Distribution of Resale Prices from Jan 2017 to Oct 2020')"
   ]
  },
  {
   "cell_type": "code",
   "execution_count": null,
   "metadata": {},
   "outputs": [],
   "source": []
  }
 ]
}